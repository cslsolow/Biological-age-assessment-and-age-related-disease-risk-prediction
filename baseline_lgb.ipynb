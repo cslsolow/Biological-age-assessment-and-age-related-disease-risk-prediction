{
 "cells": [
  {
   "cell_type": "code",
   "execution_count": 1,
   "id": "0af9eaa3-b581-4013-93c4-4b17e8bcfcb1",
   "metadata": {},
   "outputs": [
    {
     "data": {
      "text/html": [
       "        <script type=\"text/javascript\">\n",
       "        window.PlotlyConfig = {MathJaxConfig: 'local'};\n",
       "        if (window.MathJax && window.MathJax.Hub && window.MathJax.Hub.Config) {window.MathJax.Hub.Config({SVG: {font: \"STIX-Web\"}});}\n",
       "        if (typeof require !== 'undefined') {\n",
       "        require.undef(\"plotly\");\n",
       "        requirejs.config({\n",
       "            paths: {\n",
       "                'plotly': ['https://cdn.plot.ly/plotly-2.25.2.min']\n",
       "            }\n",
       "        });\n",
       "        require(['plotly'], function(Plotly) {\n",
       "            window._Plotly = Plotly;\n",
       "        });\n",
       "        }\n",
       "        </script>\n",
       "        "
      ]
     },
     "metadata": {},
     "output_type": "display_data"
    }
   ],
   "source": [
    "%matplotlib inline\n",
    "import re\n",
    "import pickle\n",
    "import time\n",
    "import numpy as np\n",
    "import pandas as pd\n",
    "import warnings\n",
    "import operator\n",
    "import polars as pl\n",
    "from collections import defaultdict, Counter\n",
    "def ignore_warn(*args,**kwargs):\n",
    "    pass\n",
    "warnings.warn = ignore_warn\n",
    "\n",
    "import matplotlib\n",
    "import matplotlib.pyplot as plt\n",
    "plt.rcParams[\"font.sans-serif\"]=['SimHei']\n",
    "plt.rcParams[\"axes.unicode_minus\"]=False\n",
    "\n",
    "import seaborn as sns\n",
    "sns.set_style('darkgrid')\n",
    "import plotly.express as px\n",
    "import plotly.graph_objects as go\n",
    "import plotly.subplots as sp\n",
    "from plotly.offline import download_plotlyjs, init_notebook_mode, plot, iplot\n",
    "init_notebook_mode(connected=True)\n",
    "from IPython.display import HTML\n",
    "\n",
    "import optuna\n",
    "from sklearn.impute import SimpleImputer\n",
    "from sklearn.preprocessing import LabelEncoder\n",
    "from sklearn.model_selection import cross_val_score, KFold, StratifiedKFold\n",
    "from sklearn.metrics import mean_squared_log_error, mean_absolute_error\n",
    "from sklearn.ensemble import RandomForestClassifier\n",
    "from sklearn.feature_extraction.text import TfidfVectorizer\n",
    "from sklearn.ensemble import VotingClassifier\n",
    "from sklearn.decomposition import TruncatedSVD, PCA\n",
    "\n",
    "from scipy.stats import norm,skew,boxcox_normmax\n",
    "\n",
    "import xgboost as xgb\n",
    "import lightgbm as lgb\n",
    "import catboost as catb"
   ]
  },
  {
   "cell_type": "code",
   "execution_count": 2,
   "id": "0e83f951-5f2f-478e-858a-0e99170abd89",
   "metadata": {},
   "outputs": [],
   "source": [
    "path = '/root/autodl-tmp/Bio'\n",
    "number = 20000\n",
    "# traindata = pd.read_csv(f'{path}/traindata.csv', nrows = number)\n",
    "trainmap = pd.read_csv(f'{path}/trainmap.csv')\n",
    "\n",
    "# testdata = pd.read_csv(f'{path}/testdata.csv', nrows = number)\n",
    "testmap = pd.read_csv(f'{path}/testmap.csv')"
   ]
  },
  {
   "cell_type": "code",
   "execution_count": 3,
   "id": "50acfc73-735c-46e8-a968-06dea4cf4065",
   "metadata": {},
   "outputs": [],
   "source": [
    "# traindata = traindata.set_index('cpgsite') # 将训练数据的索引设置为'cpgsite'列\n",
    "# traindata = traindata.T # 转置训练数据\n",
    "# traindata = traindata.reset_index() # 重置训练数据的索引\n",
    "# traindata = traindata.rename(columns={'index':'sample_id'}) # 重命名训练数据的列名\n",
    "# traindata.columns = ['sample_id'] + [i for i in range(number)] # 设置训练数据的列名为'sample_id'加上一列自增的数字\n",
    "# traindata.to_pickle(f'{path}/traindata_20000.pkl') # 将处理后的训练数据保存为pickle文件\n",
    "\n",
    "# testdata = testdata.set_index('cpgsite') # 将测试数据的索引设置为'cpgsite'列\n",
    "# testdata = testdata.T # 转置测试数据\n",
    "# testdata = testdata.reset_index() # 重置测试数据的索引\n",
    "# testdata = testdata.rename(columns={'index':'sample_id'}) # 重命名测试数据的列名\n",
    "# testdata.columns = ['sample_id'] + [i for i in range(number)] # 设置测试数据的列名为'sample_id'加上一列自增的数字\n",
    "# testdata.to_pickle(f'{path}/testdata_20000.pkl') # 将处理后的测试数据保存为pickle文件"
   ]
  },
  {
   "cell_type": "code",
   "execution_count": 4,
   "id": "97591ed3-a298-4eee-9a31-ec95aafd43ff",
   "metadata": {},
   "outputs": [],
   "source": [
    "with open(f'{path}/traindata_20000.pkl', 'rb') as file:\n",
    "    traindata = pickle.load(file)\n",
    "\n",
    "with open(f'{path}/testdata_20000.pkl', 'rb') as file:\n",
    "    testdata = pickle.load(file)"
   ]
  },
  {
   "cell_type": "markdown",
   "id": "d2f29359-019a-44b6-9c4a-0531abf94f2f",
   "metadata": {},
   "source": [
    "# EDA"
   ]
  },
  {
   "cell_type": "code",
   "execution_count": 5,
   "id": "e7d0ec4f-f075-4c75-8ef2-19cf285dd737",
   "metadata": {},
   "outputs": [
    {
     "data": {
      "text/html": [
       "<div>\n",
       "<style scoped>\n",
       "    .dataframe tbody tr th:only-of-type {\n",
       "        vertical-align: middle;\n",
       "    }\n",
       "\n",
       "    .dataframe tbody tr th {\n",
       "        vertical-align: top;\n",
       "    }\n",
       "\n",
       "    .dataframe thead th {\n",
       "        text-align: right;\n",
       "    }\n",
       "</style>\n",
       "<table border=\"1\" class=\"dataframe\">\n",
       "  <thead>\n",
       "    <tr style=\"text-align: right;\">\n",
       "      <th></th>\n",
       "      <th>sample_id</th>\n",
       "      <th>0</th>\n",
       "      <th>1</th>\n",
       "      <th>2</th>\n",
       "      <th>3</th>\n",
       "      <th>4</th>\n",
       "      <th>5</th>\n",
       "      <th>6</th>\n",
       "      <th>7</th>\n",
       "      <th>8</th>\n",
       "      <th>...</th>\n",
       "      <th>19990</th>\n",
       "      <th>19991</th>\n",
       "      <th>19992</th>\n",
       "      <th>19993</th>\n",
       "      <th>19994</th>\n",
       "      <th>19995</th>\n",
       "      <th>19996</th>\n",
       "      <th>19997</th>\n",
       "      <th>19998</th>\n",
       "      <th>19999</th>\n",
       "    </tr>\n",
       "  </thead>\n",
       "  <tbody>\n",
       "    <tr>\n",
       "      <th>0</th>\n",
       "      <td>train10001</td>\n",
       "      <td>NaN</td>\n",
       "      <td>NaN</td>\n",
       "      <td>NaN</td>\n",
       "      <td>NaN</td>\n",
       "      <td>NaN</td>\n",
       "      <td>NaN</td>\n",
       "      <td>NaN</td>\n",
       "      <td>NaN</td>\n",
       "      <td>NaN</td>\n",
       "      <td>...</td>\n",
       "      <td>1.152395</td>\n",
       "      <td>-4.489850</td>\n",
       "      <td>-2.804368</td>\n",
       "      <td>3.659672</td>\n",
       "      <td>3.993781</td>\n",
       "      <td>3.007447</td>\n",
       "      <td>-3.619579</td>\n",
       "      <td>-2.276579</td>\n",
       "      <td>2.401172</td>\n",
       "      <td>-3.837361</td>\n",
       "    </tr>\n",
       "    <tr>\n",
       "      <th>1</th>\n",
       "      <td>train10002</td>\n",
       "      <td>NaN</td>\n",
       "      <td>NaN</td>\n",
       "      <td>NaN</td>\n",
       "      <td>NaN</td>\n",
       "      <td>NaN</td>\n",
       "      <td>NaN</td>\n",
       "      <td>NaN</td>\n",
       "      <td>NaN</td>\n",
       "      <td>NaN</td>\n",
       "      <td>...</td>\n",
       "      <td>1.462650</td>\n",
       "      <td>-4.247583</td>\n",
       "      <td>-2.767818</td>\n",
       "      <td>3.406479</td>\n",
       "      <td>4.051632</td>\n",
       "      <td>1.823018</td>\n",
       "      <td>-3.543689</td>\n",
       "      <td>-2.069693</td>\n",
       "      <td>2.230092</td>\n",
       "      <td>-2.401172</td>\n",
       "    </tr>\n",
       "    <tr>\n",
       "      <th>2</th>\n",
       "      <td>train10003</td>\n",
       "      <td>NaN</td>\n",
       "      <td>NaN</td>\n",
       "      <td>NaN</td>\n",
       "      <td>NaN</td>\n",
       "      <td>NaN</td>\n",
       "      <td>NaN</td>\n",
       "      <td>NaN</td>\n",
       "      <td>NaN</td>\n",
       "      <td>NaN</td>\n",
       "      <td>...</td>\n",
       "      <td>1.040530</td>\n",
       "      <td>-3.790034</td>\n",
       "      <td>-3.100385</td>\n",
       "      <td>3.701353</td>\n",
       "      <td>5.093549</td>\n",
       "      <td>2.616463</td>\n",
       "      <td>-3.343970</td>\n",
       "      <td>-2.049755</td>\n",
       "      <td>2.401172</td>\n",
       "      <td>-3.472874</td>\n",
       "    </tr>\n",
       "    <tr>\n",
       "      <th>3</th>\n",
       "      <td>train10004</td>\n",
       "      <td>NaN</td>\n",
       "      <td>NaN</td>\n",
       "      <td>NaN</td>\n",
       "      <td>NaN</td>\n",
       "      <td>NaN</td>\n",
       "      <td>-1.398461</td>\n",
       "      <td>NaN</td>\n",
       "      <td>NaN</td>\n",
       "      <td>NaN</td>\n",
       "      <td>...</td>\n",
       "      <td>1.030189</td>\n",
       "      <td>-3.993781</td>\n",
       "      <td>-3.374769</td>\n",
       "      <td>3.543689</td>\n",
       "      <td>4.178048</td>\n",
       "      <td>2.664729</td>\n",
       "      <td>-3.175661</td>\n",
       "      <td>-1.945225</td>\n",
       "      <td>2.441207</td>\n",
       "      <td>-2.570129</td>\n",
       "    </tr>\n",
       "    <tr>\n",
       "      <th>4</th>\n",
       "      <td>train10005</td>\n",
       "      <td>1.136022</td>\n",
       "      <td>-4.489850</td>\n",
       "      <td>NaN</td>\n",
       "      <td>-3.993781</td>\n",
       "      <td>1.312567</td>\n",
       "      <td>-2.901295</td>\n",
       "      <td>-4.585271</td>\n",
       "      <td>2.804368</td>\n",
       "      <td>2.985388</td>\n",
       "      <td>...</td>\n",
       "      <td>1.179996</td>\n",
       "      <td>-4.247583</td>\n",
       "      <td>-2.823096</td>\n",
       "      <td>3.406479</td>\n",
       "      <td>4.112908</td>\n",
       "      <td>2.842141</td>\n",
       "      <td>-3.886935</td>\n",
       "      <td>-2.241551</td>\n",
       "      <td>2.401172</td>\n",
       "      <td>-3.029956</td>\n",
       "    </tr>\n",
       "    <tr>\n",
       "      <th>...</th>\n",
       "      <td>...</td>\n",
       "      <td>...</td>\n",
       "      <td>...</td>\n",
       "      <td>...</td>\n",
       "      <td>...</td>\n",
       "      <td>...</td>\n",
       "      <td>...</td>\n",
       "      <td>...</td>\n",
       "      <td>...</td>\n",
       "      <td>...</td>\n",
       "      <td>...</td>\n",
       "      <td>...</td>\n",
       "      <td>...</td>\n",
       "      <td>...</td>\n",
       "      <td>...</td>\n",
       "      <td>...</td>\n",
       "      <td>...</td>\n",
       "      <td>...</td>\n",
       "      <td>...</td>\n",
       "      <td>...</td>\n",
       "      <td>...</td>\n",
       "    </tr>\n",
       "    <tr>\n",
       "      <th>8228</th>\n",
       "      <td>train18229</td>\n",
       "      <td>1.991711</td>\n",
       "      <td>-3.886935</td>\n",
       "      <td>NaN</td>\n",
       "      <td>-3.256540</td>\n",
       "      <td>0.851873</td>\n",
       "      <td>-2.664729</td>\n",
       "      <td>-4.051632</td>\n",
       "      <td>2.842141</td>\n",
       "      <td>4.585271</td>\n",
       "      <td>...</td>\n",
       "      <td>2.049755</td>\n",
       "      <td>-4.322159</td>\n",
       "      <td>-3.076403</td>\n",
       "      <td>3.175661</td>\n",
       "      <td>5.093549</td>\n",
       "      <td>3.507691</td>\n",
       "      <td>-3.201956</td>\n",
       "      <td>-2.276579</td>\n",
       "      <td>3.029956</td>\n",
       "      <td>NaN</td>\n",
       "    </tr>\n",
       "    <tr>\n",
       "      <th>8229</th>\n",
       "      <td>train18230</td>\n",
       "      <td>2.020410</td>\n",
       "      <td>-3.938986</td>\n",
       "      <td>NaN</td>\n",
       "      <td>-3.543689</td>\n",
       "      <td>1.259524</td>\n",
       "      <td>-2.388119</td>\n",
       "      <td>-4.112908</td>\n",
       "      <td>3.472874</td>\n",
       "      <td>3.701353</td>\n",
       "      <td>...</td>\n",
       "      <td>1.672671</td>\n",
       "      <td>-3.343970</td>\n",
       "      <td>-3.343970</td>\n",
       "      <td>2.881228</td>\n",
       "      <td>4.807960</td>\n",
       "      <td>2.648415</td>\n",
       "      <td>-3.580953</td>\n",
       "      <td>-1.606561</td>\n",
       "      <td>2.616463</td>\n",
       "      <td>NaN</td>\n",
       "    </tr>\n",
       "    <tr>\n",
       "      <th>8230</th>\n",
       "      <td>train18231</td>\n",
       "      <td>1.814692</td>\n",
       "      <td>-3.343970</td>\n",
       "      <td>NaN</td>\n",
       "      <td>-3.580953</td>\n",
       "      <td>NaN</td>\n",
       "      <td>-2.570129</td>\n",
       "      <td>-4.585271</td>\n",
       "      <td>3.343970</td>\n",
       "      <td>4.585271</td>\n",
       "      <td>...</td>\n",
       "      <td>1.585160</td>\n",
       "      <td>-4.322159</td>\n",
       "      <td>-3.007447</td>\n",
       "      <td>3.149987</td>\n",
       "      <td>4.690541</td>\n",
       "      <td>2.842141</td>\n",
       "      <td>-3.406479</td>\n",
       "      <td>-1.367282</td>\n",
       "      <td>3.029956</td>\n",
       "      <td>NaN</td>\n",
       "    </tr>\n",
       "    <tr>\n",
       "      <th>8231</th>\n",
       "      <td>train18232</td>\n",
       "      <td>1.550147</td>\n",
       "      <td>-2.963760</td>\n",
       "      <td>NaN</td>\n",
       "      <td>-3.744756</td>\n",
       "      <td>1.443126</td>\n",
       "      <td>-0.904911</td>\n",
       "      <td>-4.585271</td>\n",
       "      <td>3.374769</td>\n",
       "      <td>3.837361</td>\n",
       "      <td>...</td>\n",
       "      <td>2.218738</td>\n",
       "      <td>-5.273603</td>\n",
       "      <td>-2.823096</td>\n",
       "      <td>3.175661</td>\n",
       "      <td>4.940737</td>\n",
       "      <td>2.681278</td>\n",
       "      <td>-3.007447</td>\n",
       "      <td>-1.462650</td>\n",
       "      <td>3.052934</td>\n",
       "      <td>-1.918093</td>\n",
       "    </tr>\n",
       "    <tr>\n",
       "      <th>8232</th>\n",
       "      <td>train18233</td>\n",
       "      <td>2.142023</td>\n",
       "      <td>-2.881228</td>\n",
       "      <td>NaN</td>\n",
       "      <td>-3.701353</td>\n",
       "      <td>NaN</td>\n",
       "      <td>-2.110522</td>\n",
       "      <td>-4.051632</td>\n",
       "      <td>3.406479</td>\n",
       "      <td>4.807960</td>\n",
       "      <td>...</td>\n",
       "      <td>2.496772</td>\n",
       "      <td>-4.178048</td>\n",
       "      <td>-3.201956</td>\n",
       "      <td>3.007447</td>\n",
       "      <td>4.247583</td>\n",
       "      <td>NaN</td>\n",
       "      <td>-3.201956</td>\n",
       "      <td>-1.936120</td>\n",
       "      <td>3.175661</td>\n",
       "      <td>NaN</td>\n",
       "    </tr>\n",
       "  </tbody>\n",
       "</table>\n",
       "<p>8233 rows × 20001 columns</p>\n",
       "</div>"
      ],
      "text/plain": [
       "       sample_id         0         1   2         3         4         5  \\\n",
       "0     train10001       NaN       NaN NaN       NaN       NaN       NaN   \n",
       "1     train10002       NaN       NaN NaN       NaN       NaN       NaN   \n",
       "2     train10003       NaN       NaN NaN       NaN       NaN       NaN   \n",
       "3     train10004       NaN       NaN NaN       NaN       NaN -1.398461   \n",
       "4     train10005  1.136022 -4.489850 NaN -3.993781  1.312567 -2.901295   \n",
       "...          ...       ...       ...  ..       ...       ...       ...   \n",
       "8228  train18229  1.991711 -3.886935 NaN -3.256540  0.851873 -2.664729   \n",
       "8229  train18230  2.020410 -3.938986 NaN -3.543689  1.259524 -2.388119   \n",
       "8230  train18231  1.814692 -3.343970 NaN -3.580953       NaN -2.570129   \n",
       "8231  train18232  1.550147 -2.963760 NaN -3.744756  1.443126 -0.904911   \n",
       "8232  train18233  2.142023 -2.881228 NaN -3.701353       NaN -2.110522   \n",
       "\n",
       "             6         7         8  ...     19990     19991     19992  \\\n",
       "0          NaN       NaN       NaN  ...  1.152395 -4.489850 -2.804368   \n",
       "1          NaN       NaN       NaN  ...  1.462650 -4.247583 -2.767818   \n",
       "2          NaN       NaN       NaN  ...  1.040530 -3.790034 -3.100385   \n",
       "3          NaN       NaN       NaN  ...  1.030189 -3.993781 -3.374769   \n",
       "4    -4.585271  2.804368  2.985388  ...  1.179996 -4.247583 -2.823096   \n",
       "...        ...       ...       ...  ...       ...       ...       ...   \n",
       "8228 -4.051632  2.842141  4.585271  ...  2.049755 -4.322159 -3.076403   \n",
       "8229 -4.112908  3.472874  3.701353  ...  1.672671 -3.343970 -3.343970   \n",
       "8230 -4.585271  3.343970  4.585271  ...  1.585160 -4.322159 -3.007447   \n",
       "8231 -4.585271  3.374769  3.837361  ...  2.218738 -5.273603 -2.823096   \n",
       "8232 -4.051632  3.406479  4.807960  ...  2.496772 -4.178048 -3.201956   \n",
       "\n",
       "         19993     19994     19995     19996     19997     19998     19999  \n",
       "0     3.659672  3.993781  3.007447 -3.619579 -2.276579  2.401172 -3.837361  \n",
       "1     3.406479  4.051632  1.823018 -3.543689 -2.069693  2.230092 -2.401172  \n",
       "2     3.701353  5.093549  2.616463 -3.343970 -2.049755  2.401172 -3.472874  \n",
       "3     3.543689  4.178048  2.664729 -3.175661 -1.945225  2.441207 -2.570129  \n",
       "4     3.406479  4.112908  2.842141 -3.886935 -2.241551  2.401172 -3.029956  \n",
       "...        ...       ...       ...       ...       ...       ...       ...  \n",
       "8228  3.175661  5.093549  3.507691 -3.201956 -2.276579  3.029956       NaN  \n",
       "8229  2.881228  4.807960  2.648415 -3.580953 -1.606561  2.616463       NaN  \n",
       "8230  3.149987  4.690541  2.842141 -3.406479 -1.367282  3.029956       NaN  \n",
       "8231  3.175661  4.940737  2.681278 -3.007447 -1.462650  3.052934 -1.918093  \n",
       "8232  3.007447  4.247583       NaN -3.201956 -1.936120  3.175661       NaN  \n",
       "\n",
       "[8233 rows x 20001 columns]"
      ]
     },
     "execution_count": 5,
     "metadata": {},
     "output_type": "execute_result"
    }
   ],
   "source": [
    "traindata"
   ]
  },
  {
   "cell_type": "code",
   "execution_count": 6,
   "id": "5d8d5158-4594-47dc-b9ce-b9622ae7411a",
   "metadata": {},
   "outputs": [
    {
     "data": {
      "text/html": [
       "<div>\n",
       "<style scoped>\n",
       "    .dataframe tbody tr th:only-of-type {\n",
       "        vertical-align: middle;\n",
       "    }\n",
       "\n",
       "    .dataframe tbody tr th {\n",
       "        vertical-align: top;\n",
       "    }\n",
       "\n",
       "    .dataframe thead th {\n",
       "        text-align: right;\n",
       "    }\n",
       "</style>\n",
       "<table border=\"1\" class=\"dataframe\">\n",
       "  <thead>\n",
       "    <tr style=\"text-align: right;\">\n",
       "      <th></th>\n",
       "      <th>Unnamed: 0</th>\n",
       "      <th>sample_id</th>\n",
       "      <th>age</th>\n",
       "      <th>gender</th>\n",
       "      <th>sample_type</th>\n",
       "      <th>disease</th>\n",
       "    </tr>\n",
       "  </thead>\n",
       "  <tbody>\n",
       "    <tr>\n",
       "      <th>0</th>\n",
       "      <td>1</td>\n",
       "      <td>train10001</td>\n",
       "      <td>88.0</td>\n",
       "      <td>F</td>\n",
       "      <td>disease tissue</td>\n",
       "      <td>Alzheimer's disease</td>\n",
       "    </tr>\n",
       "    <tr>\n",
       "      <th>1</th>\n",
       "      <td>2</td>\n",
       "      <td>train10002</td>\n",
       "      <td>92.0</td>\n",
       "      <td>F</td>\n",
       "      <td>disease tissue</td>\n",
       "      <td>Alzheimer's disease</td>\n",
       "    </tr>\n",
       "    <tr>\n",
       "      <th>2</th>\n",
       "      <td>3</td>\n",
       "      <td>train10003</td>\n",
       "      <td>93.0</td>\n",
       "      <td>F</td>\n",
       "      <td>disease tissue</td>\n",
       "      <td>Alzheimer's disease</td>\n",
       "    </tr>\n",
       "    <tr>\n",
       "      <th>3</th>\n",
       "      <td>4</td>\n",
       "      <td>train10004</td>\n",
       "      <td>96.0</td>\n",
       "      <td>F</td>\n",
       "      <td>disease tissue</td>\n",
       "      <td>Alzheimer's disease</td>\n",
       "    </tr>\n",
       "    <tr>\n",
       "      <th>4</th>\n",
       "      <td>5</td>\n",
       "      <td>train10005</td>\n",
       "      <td>91.0</td>\n",
       "      <td>M</td>\n",
       "      <td>disease tissue</td>\n",
       "      <td>Alzheimer's disease</td>\n",
       "    </tr>\n",
       "    <tr>\n",
       "      <th>...</th>\n",
       "      <td>...</td>\n",
       "      <td>...</td>\n",
       "      <td>...</td>\n",
       "      <td>...</td>\n",
       "      <td>...</td>\n",
       "      <td>...</td>\n",
       "    </tr>\n",
       "    <tr>\n",
       "      <th>8228</th>\n",
       "      <td>8229</td>\n",
       "      <td>train18229</td>\n",
       "      <td>74.0</td>\n",
       "      <td>M</td>\n",
       "      <td>disease tissue</td>\n",
       "      <td>type 2 diabetes</td>\n",
       "    </tr>\n",
       "    <tr>\n",
       "      <th>8229</th>\n",
       "      <td>8230</td>\n",
       "      <td>train18230</td>\n",
       "      <td>74.0</td>\n",
       "      <td>M</td>\n",
       "      <td>disease tissue</td>\n",
       "      <td>type 2 diabetes</td>\n",
       "    </tr>\n",
       "    <tr>\n",
       "      <th>8230</th>\n",
       "      <td>8231</td>\n",
       "      <td>train18231</td>\n",
       "      <td>81.0</td>\n",
       "      <td>M</td>\n",
       "      <td>disease tissue</td>\n",
       "      <td>type 2 diabetes</td>\n",
       "    </tr>\n",
       "    <tr>\n",
       "      <th>8231</th>\n",
       "      <td>8232</td>\n",
       "      <td>train18232</td>\n",
       "      <td>67.0</td>\n",
       "      <td>M</td>\n",
       "      <td>disease tissue</td>\n",
       "      <td>type 2 diabetes</td>\n",
       "    </tr>\n",
       "    <tr>\n",
       "      <th>8232</th>\n",
       "      <td>8233</td>\n",
       "      <td>train18233</td>\n",
       "      <td>68.0</td>\n",
       "      <td>M</td>\n",
       "      <td>disease tissue</td>\n",
       "      <td>type 2 diabetes</td>\n",
       "    </tr>\n",
       "  </tbody>\n",
       "</table>\n",
       "<p>8233 rows × 6 columns</p>\n",
       "</div>"
      ],
      "text/plain": [
       "      Unnamed: 0   sample_id   age gender     sample_type              disease\n",
       "0              1  train10001  88.0      F  disease tissue  Alzheimer's disease\n",
       "1              2  train10002  92.0      F  disease tissue  Alzheimer's disease\n",
       "2              3  train10003  93.0      F  disease tissue  Alzheimer's disease\n",
       "3              4  train10004  96.0      F  disease tissue  Alzheimer's disease\n",
       "4              5  train10005  91.0      M  disease tissue  Alzheimer's disease\n",
       "...          ...         ...   ...    ...             ...                  ...\n",
       "8228        8229  train18229  74.0      M  disease tissue      type 2 diabetes\n",
       "8229        8230  train18230  74.0      M  disease tissue      type 2 diabetes\n",
       "8230        8231  train18231  81.0      M  disease tissue      type 2 diabetes\n",
       "8231        8232  train18232  67.0      M  disease tissue      type 2 diabetes\n",
       "8232        8233  train18233  68.0      M  disease tissue      type 2 diabetes\n",
       "\n",
       "[8233 rows x 6 columns]"
      ]
     },
     "execution_count": 6,
     "metadata": {},
     "output_type": "execute_result"
    }
   ],
   "source": [
    "trainmap"
   ]
  },
  {
   "cell_type": "markdown",
   "id": "bdef4d88-6222-4f49-a11b-607d3221c570",
   "metadata": {},
   "source": [
    "## 把数据分成健康和不健康"
   ]
  },
  {
   "cell_type": "code",
   "execution_count": 7,
   "id": "1a1ac3e7-0354-4b01-9596-c59a97f746fe",
   "metadata": {},
   "outputs": [
    {
     "data": {
      "text/plain": [
       "sample_type\n",
       "control           6266\n",
       "disease tissue    1967\n",
       "Name: count, dtype: int64"
      ]
     },
     "execution_count": 7,
     "metadata": {},
     "output_type": "execute_result"
    }
   ],
   "source": [
    "trainmap['sample_type'].value_counts()"
   ]
  },
  {
   "cell_type": "code",
   "execution_count": 8,
   "id": "55fb54f9-d23f-4385-933b-67c4dbbef073",
   "metadata": {},
   "outputs": [],
   "source": [
    "traindata = traindata.merge(trainmap[['sample_id', 'age', 'gender', 'sample_type', 'disease']],on='sample_id',how='left')\n",
    "testdata = testdata.merge(testmap[['sample_id', 'gender']],on='sample_id',how='left')"
   ]
  },
  {
   "cell_type": "code",
   "execution_count": 9,
   "id": "5836cde1-a4c6-4dd7-9ac7-78f58cff752f",
   "metadata": {},
   "outputs": [],
   "source": [
    "traindata_control = traindata[traindata['sample_type'] == 'control']\n",
    "traindata_disease = traindata[traindata['sample_type'] == 'disease tissue']"
   ]
  },
  {
   "cell_type": "code",
   "execution_count": 10,
   "id": "38b6a66f-8a7f-4c8a-8786-e1c01bfbd629",
   "metadata": {},
   "outputs": [],
   "source": [
    "traindata_control = traindata_control.reset_index(drop = True)\n",
    "traindata_disease = traindata_disease.reset_index(drop = True)"
   ]
  },
  {
   "cell_type": "markdown",
   "id": "5d520cda-aa5d-413e-a1d0-0d590b24058d",
   "metadata": {},
   "source": [
    "看一看target"
   ]
  },
  {
   "cell_type": "code",
   "execution_count": 11,
   "id": "4a55dae6-2801-47bc-a37a-5a0fe50bcaa0",
   "metadata": {},
   "outputs": [
    {
     "data": {
      "text/plain": [
       "<Axes: xlabel='age', ylabel='Density'>"
      ]
     },
     "execution_count": 11,
     "metadata": {},
     "output_type": "execute_result"
    },
    {
     "data": {
      "image/png": "[encoded data removed]",
      "text/plain": [
       "<Figure size 640x480 with 1 Axes>"
      ]
     },
     "metadata": {},
     "output_type": "display_data"
    }
   ],
   "source": [
    "sns.distplot(traindata_control['age'], fit = norm)"
   ]
  },
  {
   "cell_type": "code",
   "execution_count": 12,
   "id": "45bf28f9-7356-4d89-89ea-4b941dce3477",
   "metadata": {},
   "outputs": [
    {
     "data": {
      "text/plain": [
       "<Axes: xlabel='age', ylabel='Density'>"
      ]
     },
     "execution_count": 12,
     "metadata": {},
     "output_type": "execute_result"
    },
    {
     "data": {
      "image/png": "[encoded data removed]",
      "text/plain": [
       "<Figure size 640x480 with 1 Axes>"
      ]
     },
     "metadata": {},
     "output_type": "display_data"
    }
   ],
   "source": [
    "sns.distplot(traindata_disease['age'], fit = norm)"
   ]
  },
  {
   "cell_type": "markdown",
   "id": "6a7fa18f-d53e-42d5-b74b-3f4c70121dc1",
   "metadata": {},
   "source": [
    "生病的老年人居多，生不生病对年龄的预测应该影响还是有的"
   ]
  },
  {
   "cell_type": "markdown",
   "id": "e0b63671-b911-487a-8dae-796e67ba1005",
   "metadata": {},
   "source": [
    "## Gender VS 是否生病"
   ]
  },
  {
   "cell_type": "code",
   "execution_count": 13,
   "id": "c53ef076-3831-410c-a82a-2d52bc452388",
   "metadata": {},
   "outputs": [
    {
     "data": {
      "image/png": "[encoded data removed]",
      "text/plain": [
       "<Figure size 640x480 with 1 Axes>"
      ]
     },
     "metadata": {},
     "output_type": "display_data"
    }
   ],
   "source": [
    "labels = [str(i) for i in traindata_control['gender'].value_counts().keys().tolist()]\n",
    "for i in range(len(labels)):\n",
    "    plt.bar(labels[i], traindata_control['gender'].value_counts().tolist()[i])\n",
    "\n",
    "plt.title(\"The number of 2 genders in Control\")\n",
    "plt.xlabel(\"gender\")\n",
    "plt.ylabel(\"number\")\n",
    " \n",
    "plt.show()"
   ]
  },
  {
   "cell_type": "code",
   "execution_count": 14,
   "id": "1e82b591-f21b-4b8b-b7ca-c20e12b3d7fb",
   "metadata": {},
   "outputs": [
    {
     "data": {
      "image/png": "[encoded data removed]",
      "text/plain": [
       "<Figure size 640x480 with 1 Axes>"
      ]
     },
     "metadata": {},
     "output_type": "display_data"
    }
   ],
   "source": [
    "labels = [str(i) for i in traindata_disease['gender'].value_counts().keys().tolist()]\n",
    "for i in range(len(labels)):\n",
    "    plt.bar(labels[i], traindata_disease['gender'].value_counts().tolist()[i])\n",
    "\n",
    "plt.title(\"The number of 2 genders in Disease\")\n",
    "plt.xlabel(\"gender\")\n",
    "plt.ylabel(\"number\")\n",
    " \n",
    "plt.show()"
   ]
  },
  {
   "cell_type": "markdown",
   "id": "9c572080-e5ac-4ff8-9393-3a2a9710d194",
   "metadata": {},
   "source": [
    "看来性别对是否生病影响不大，但可能影响甲基化数据的大小"
   ]
  },
  {
   "cell_type": "markdown",
   "id": "7cbf70ea-529b-486a-9bb5-3a486fcf45b8",
   "metadata": {},
   "source": [
    "## Gender VS 年龄"
   ]
  },
  {
   "cell_type": "code",
   "execution_count": 15,
   "id": "d1365b00-43cd-406c-9168-24158fe3aaec",
   "metadata": {},
   "outputs": [
    {
     "data": {
      "image/png": "[encoded data removed]",
      "text/plain": [
       "<Figure size 800x600 with 1 Axes>"
      ]
     },
     "metadata": {},
     "output_type": "display_data"
    }
   ],
   "source": [
    "plt.figure(figsize=(8, 6))\n",
    "sns.histplot(data=traindata, x='age', hue='gender', multiple='stack', bins=10)\n",
    "plt.title('Age Distribution by Gender')\n",
    "plt.xlabel('Age')\n",
    "plt.ylabel('Count')\n",
    "plt.show()"
   ]
  },
  {
   "cell_type": "markdown",
   "id": "e77246f2-b77d-4063-94b8-3166bd6a9cd0",
   "metadata": {},
   "source": [
    "感觉gender影响不大"
   ]
  },
  {
   "cell_type": "markdown",
   "id": "cd0c109a-aee0-4162-9047-1b65951dea7a",
   "metadata": {},
   "source": [
    "## 疾病种类 VS 年龄"
   ]
  },
  {
   "cell_type": "code",
   "execution_count": 16,
   "id": "c2ef9104-1236-49a3-8ce8-0ea975c5b532",
   "metadata": {},
   "outputs": [
    {
     "data": {
      "image/png": "[encoded data removed]",
      "text/plain": [
       "<Figure size 1000x600 with 1 Axes>"
      ]
     },
     "metadata": {},
     "output_type": "display_data"
    }
   ],
   "source": [
    "plt.figure(figsize=(10, 6))\n",
    "sns.histplot(data=traindata_disease, x='age', hue='disease', multiple='stack', bins=20)\n",
    "\n",
    "plt.title('Age Distribution by Disease Type')\n",
    "plt.xlabel('Age')\n",
    "plt.ylabel('Count')\n",
    "\n",
    "plt.show()"
   ]
  },
  {
   "cell_type": "markdown",
   "id": "69c69e5b-f7b3-4fe1-a590-6441956c3120",
   "metadata": {},
   "source": [
    "影响有亿点大"
   ]
  },
  {
   "cell_type": "markdown",
   "id": "6372387a-e3b4-4f63-80c5-4a6a7d3b9d5d",
   "metadata": {},
   "source": [
    "## 缺失值"
   ]
  },
  {
   "cell_type": "code",
   "execution_count": 17,
   "id": "63bc9d1a-df13-4df6-8cc0-68c058a1f519",
   "metadata": {},
   "outputs": [
    {
     "data": {
      "text/html": [
       "<div>\n",
       "<style scoped>\n",
       "    .dataframe tbody tr th:only-of-type {\n",
       "        vertical-align: middle;\n",
       "    }\n",
       "\n",
       "    .dataframe tbody tr th {\n",
       "        vertical-align: top;\n",
       "    }\n",
       "\n",
       "    .dataframe thead th {\n",
       "        text-align: right;\n",
       "    }\n",
       "</style>\n",
       "<table border=\"1\" class=\"dataframe\">\n",
       "  <thead>\n",
       "    <tr style=\"text-align: right;\">\n",
       "      <th></th>\n",
       "      <th>0</th>\n",
       "      <th>1</th>\n",
       "      <th>2</th>\n",
       "      <th>3</th>\n",
       "      <th>4</th>\n",
       "      <th>5</th>\n",
       "      <th>6</th>\n",
       "      <th>7</th>\n",
       "      <th>8</th>\n",
       "      <th>9</th>\n",
       "      <th>...</th>\n",
       "      <th>19990</th>\n",
       "      <th>19991</th>\n",
       "      <th>19992</th>\n",
       "      <th>19993</th>\n",
       "      <th>19994</th>\n",
       "      <th>19995</th>\n",
       "      <th>19996</th>\n",
       "      <th>19997</th>\n",
       "      <th>19998</th>\n",
       "      <th>19999</th>\n",
       "    </tr>\n",
       "  </thead>\n",
       "  <tbody>\n",
       "    <tr>\n",
       "      <th>0</th>\n",
       "      <td>NaN</td>\n",
       "      <td>NaN</td>\n",
       "      <td>NaN</td>\n",
       "      <td>NaN</td>\n",
       "      <td>NaN</td>\n",
       "      <td>NaN</td>\n",
       "      <td>NaN</td>\n",
       "      <td>NaN</td>\n",
       "      <td>NaN</td>\n",
       "      <td>NaN</td>\n",
       "      <td>...</td>\n",
       "      <td>1.152395</td>\n",
       "      <td>-4.489850</td>\n",
       "      <td>-2.804368</td>\n",
       "      <td>3.659672</td>\n",
       "      <td>3.993781</td>\n",
       "      <td>3.007447</td>\n",
       "      <td>-3.619579</td>\n",
       "      <td>-2.276579</td>\n",
       "      <td>2.401172</td>\n",
       "      <td>-3.837361</td>\n",
       "    </tr>\n",
       "    <tr>\n",
       "      <th>1</th>\n",
       "      <td>NaN</td>\n",
       "      <td>NaN</td>\n",
       "      <td>NaN</td>\n",
       "      <td>NaN</td>\n",
       "      <td>NaN</td>\n",
       "      <td>NaN</td>\n",
       "      <td>NaN</td>\n",
       "      <td>NaN</td>\n",
       "      <td>NaN</td>\n",
       "      <td>NaN</td>\n",
       "      <td>...</td>\n",
       "      <td>1.462650</td>\n",
       "      <td>-4.247583</td>\n",
       "      <td>-2.767818</td>\n",
       "      <td>3.406479</td>\n",
       "      <td>4.051632</td>\n",
       "      <td>1.823018</td>\n",
       "      <td>-3.543689</td>\n",
       "      <td>-2.069693</td>\n",
       "      <td>2.230092</td>\n",
       "      <td>-2.401172</td>\n",
       "    </tr>\n",
       "    <tr>\n",
       "      <th>2</th>\n",
       "      <td>NaN</td>\n",
       "      <td>NaN</td>\n",
       "      <td>NaN</td>\n",
       "      <td>NaN</td>\n",
       "      <td>NaN</td>\n",
       "      <td>NaN</td>\n",
       "      <td>NaN</td>\n",
       "      <td>NaN</td>\n",
       "      <td>NaN</td>\n",
       "      <td>NaN</td>\n",
       "      <td>...</td>\n",
       "      <td>1.040530</td>\n",
       "      <td>-3.790034</td>\n",
       "      <td>-3.100385</td>\n",
       "      <td>3.701353</td>\n",
       "      <td>5.093549</td>\n",
       "      <td>2.616463</td>\n",
       "      <td>-3.343970</td>\n",
       "      <td>-2.049755</td>\n",
       "      <td>2.401172</td>\n",
       "      <td>-3.472874</td>\n",
       "    </tr>\n",
       "    <tr>\n",
       "      <th>3</th>\n",
       "      <td>NaN</td>\n",
       "      <td>NaN</td>\n",
       "      <td>NaN</td>\n",
       "      <td>NaN</td>\n",
       "      <td>NaN</td>\n",
       "      <td>-1.398461</td>\n",
       "      <td>NaN</td>\n",
       "      <td>NaN</td>\n",
       "      <td>NaN</td>\n",
       "      <td>NaN</td>\n",
       "      <td>...</td>\n",
       "      <td>1.030189</td>\n",
       "      <td>-3.993781</td>\n",
       "      <td>-3.374769</td>\n",
       "      <td>3.543689</td>\n",
       "      <td>4.178048</td>\n",
       "      <td>2.664729</td>\n",
       "      <td>-3.175661</td>\n",
       "      <td>-1.945225</td>\n",
       "      <td>2.441207</td>\n",
       "      <td>-2.570129</td>\n",
       "    </tr>\n",
       "    <tr>\n",
       "      <th>4</th>\n",
       "      <td>1.136022</td>\n",
       "      <td>-4.489850</td>\n",
       "      <td>NaN</td>\n",
       "      <td>-3.993781</td>\n",
       "      <td>1.312567</td>\n",
       "      <td>-2.901295</td>\n",
       "      <td>-4.585271</td>\n",
       "      <td>2.804368</td>\n",
       "      <td>2.985388</td>\n",
       "      <td>-4.402578</td>\n",
       "      <td>...</td>\n",
       "      <td>1.179996</td>\n",
       "      <td>-4.247583</td>\n",
       "      <td>-2.823096</td>\n",
       "      <td>3.406479</td>\n",
       "      <td>4.112908</td>\n",
       "      <td>2.842141</td>\n",
       "      <td>-3.886935</td>\n",
       "      <td>-2.241551</td>\n",
       "      <td>2.401172</td>\n",
       "      <td>-3.029956</td>\n",
       "    </tr>\n",
       "    <tr>\n",
       "      <th>...</th>\n",
       "      <td>...</td>\n",
       "      <td>...</td>\n",
       "      <td>...</td>\n",
       "      <td>...</td>\n",
       "      <td>...</td>\n",
       "      <td>...</td>\n",
       "      <td>...</td>\n",
       "      <td>...</td>\n",
       "      <td>...</td>\n",
       "      <td>...</td>\n",
       "      <td>...</td>\n",
       "      <td>...</td>\n",
       "      <td>...</td>\n",
       "      <td>...</td>\n",
       "      <td>...</td>\n",
       "      <td>...</td>\n",
       "      <td>...</td>\n",
       "      <td>...</td>\n",
       "      <td>...</td>\n",
       "      <td>...</td>\n",
       "      <td>...</td>\n",
       "    </tr>\n",
       "    <tr>\n",
       "      <th>2058</th>\n",
       "      <td>NaN</td>\n",
       "      <td>NaN</td>\n",
       "      <td>NaN</td>\n",
       "      <td>NaN</td>\n",
       "      <td>NaN</td>\n",
       "      <td>NaN</td>\n",
       "      <td>NaN</td>\n",
       "      <td>NaN</td>\n",
       "      <td>NaN</td>\n",
       "      <td>NaN</td>\n",
       "      <td>...</td>\n",
       "      <td>1.557086</td>\n",
       "      <td>-4.178048</td>\n",
       "      <td>-3.029956</td>\n",
       "      <td>3.284902</td>\n",
       "      <td>4.940737</td>\n",
       "      <td>2.681278</td>\n",
       "      <td>-2.963760</td>\n",
       "      <td>-1.306594</td>\n",
       "      <td>2.942546</td>\n",
       "      <td>-1.882748</td>\n",
       "    </tr>\n",
       "    <tr>\n",
       "      <th>2059</th>\n",
       "      <td>2.049755</td>\n",
       "      <td>-3.406479</td>\n",
       "      <td>NaN</td>\n",
       "      <td>-3.175661</td>\n",
       "      <td>1.125184</td>\n",
       "      <td>-2.337277</td>\n",
       "      <td>-4.489850</td>\n",
       "      <td>3.472874</td>\n",
       "      <td>4.489850</td>\n",
       "      <td>-3.744756</td>\n",
       "      <td>...</td>\n",
       "      <td>1.891498</td>\n",
       "      <td>-3.701353</td>\n",
       "      <td>-3.052934</td>\n",
       "      <td>3.149987</td>\n",
       "      <td>4.940737</td>\n",
       "      <td>3.543689</td>\n",
       "      <td>-3.580953</td>\n",
       "      <td>-1.882748</td>\n",
       "      <td>3.343970</td>\n",
       "      <td>-2.632328</td>\n",
       "    </tr>\n",
       "    <tr>\n",
       "      <th>2060</th>\n",
       "      <td>2.207487</td>\n",
       "      <td>-3.076403</td>\n",
       "      <td>NaN</td>\n",
       "      <td>-3.472874</td>\n",
       "      <td>NaN</td>\n",
       "      <td>-1.900305</td>\n",
       "      <td>-4.489850</td>\n",
       "      <td>3.052934</td>\n",
       "      <td>4.489850</td>\n",
       "      <td>-4.178048</td>\n",
       "      <td>...</td>\n",
       "      <td>1.865415</td>\n",
       "      <td>-4.322159</td>\n",
       "      <td>-3.124904</td>\n",
       "      <td>2.985388</td>\n",
       "      <td>9.210440</td>\n",
       "      <td>NaN</td>\n",
       "      <td>-3.343970</td>\n",
       "      <td>-1.404768</td>\n",
       "      <td>2.985388</td>\n",
       "      <td>-2.349789</td>\n",
       "    </tr>\n",
       "    <tr>\n",
       "      <th>2061</th>\n",
       "      <td>1.749816</td>\n",
       "      <td>-2.942546</td>\n",
       "      <td>NaN</td>\n",
       "      <td>-5.273603</td>\n",
       "      <td>NaN</td>\n",
       "      <td>-1.098346</td>\n",
       "      <td>-5.093549</td>\n",
       "      <td>3.406479</td>\n",
       "      <td>3.993781</td>\n",
       "      <td>-3.886935</td>\n",
       "      <td>...</td>\n",
       "      <td>2.861514</td>\n",
       "      <td>-3.993781</td>\n",
       "      <td>-3.149987</td>\n",
       "      <td>3.284902</td>\n",
       "      <td>5.093549</td>\n",
       "      <td>3.100385</td>\n",
       "      <td>-3.374769</td>\n",
       "      <td>-1.282902</td>\n",
       "      <td>2.942546</td>\n",
       "      <td>NaN</td>\n",
       "    </tr>\n",
       "    <tr>\n",
       "      <th>2062</th>\n",
       "      <td>1.874054</td>\n",
       "      <td>-3.701353</td>\n",
       "      <td>NaN</td>\n",
       "      <td>-4.178048</td>\n",
       "      <td>1.040530</td>\n",
       "      <td>-2.921730</td>\n",
       "      <td>-4.051632</td>\n",
       "      <td>3.256540</td>\n",
       "      <td>4.051632</td>\n",
       "      <td>-4.178048</td>\n",
       "      <td>...</td>\n",
       "      <td>2.312634</td>\n",
       "      <td>-3.938986</td>\n",
       "      <td>-3.124904</td>\n",
       "      <td>2.698069</td>\n",
       "      <td>5.093549</td>\n",
       "      <td>3.374769</td>\n",
       "      <td>-3.201956</td>\n",
       "      <td>-2.100192</td>\n",
       "      <td>3.100385</td>\n",
       "      <td>-2.600812</td>\n",
       "    </tr>\n",
       "  </tbody>\n",
       "</table>\n",
       "<p>10296 rows × 20000 columns</p>\n",
       "</div>"
      ],
      "text/plain": [
       "         0         1      2         3         4         5         6      \\\n",
       "0          NaN       NaN    NaN       NaN       NaN       NaN       NaN   \n",
       "1          NaN       NaN    NaN       NaN       NaN       NaN       NaN   \n",
       "2          NaN       NaN    NaN       NaN       NaN       NaN       NaN   \n",
       "3          NaN       NaN    NaN       NaN       NaN -1.398461       NaN   \n",
       "4     1.136022 -4.489850    NaN -3.993781  1.312567 -2.901295 -4.585271   \n",
       "...        ...       ...    ...       ...       ...       ...       ...   \n",
       "2058       NaN       NaN    NaN       NaN       NaN       NaN       NaN   \n",
       "2059  2.049755 -3.406479    NaN -3.175661  1.125184 -2.337277 -4.489850   \n",
       "2060  2.207487 -3.076403    NaN -3.472874       NaN -1.900305 -4.489850   \n",
       "2061  1.749816 -2.942546    NaN -5.273603       NaN -1.098346 -5.093549   \n",
       "2062  1.874054 -3.701353    NaN -4.178048  1.040530 -2.921730 -4.051632   \n",
       "\n",
       "         7         8         9      ...     19990     19991     19992  \\\n",
       "0          NaN       NaN       NaN  ...  1.152395 -4.489850 -2.804368   \n",
       "1          NaN       NaN       NaN  ...  1.462650 -4.247583 -2.767818   \n",
       "2          NaN       NaN       NaN  ...  1.040530 -3.790034 -3.100385   \n",
       "3          NaN       NaN       NaN  ...  1.030189 -3.993781 -3.374769   \n",
       "4     2.804368  2.985388 -4.402578  ...  1.179996 -4.247583 -2.823096   \n",
       "...        ...       ...       ...  ...       ...       ...       ...   \n",
       "2058       NaN       NaN       NaN  ...  1.557086 -4.178048 -3.029956   \n",
       "2059  3.472874  4.489850 -3.744756  ...  1.891498 -3.701353 -3.052934   \n",
       "2060  3.052934  4.489850 -4.178048  ...  1.865415 -4.322159 -3.124904   \n",
       "2061  3.406479  3.993781 -3.886935  ...  2.861514 -3.993781 -3.149987   \n",
       "2062  3.256540  4.051632 -4.178048  ...  2.312634 -3.938986 -3.124904   \n",
       "\n",
       "         19993     19994     19995     19996     19997     19998     19999  \n",
       "0     3.659672  3.993781  3.007447 -3.619579 -2.276579  2.401172 -3.837361  \n",
       "1     3.406479  4.051632  1.823018 -3.543689 -2.069693  2.230092 -2.401172  \n",
       "2     3.701353  5.093549  2.616463 -3.343970 -2.049755  2.401172 -3.472874  \n",
       "3     3.543689  4.178048  2.664729 -3.175661 -1.945225  2.441207 -2.570129  \n",
       "4     3.406479  4.112908  2.842141 -3.886935 -2.241551  2.401172 -3.029956  \n",
       "...        ...       ...       ...       ...       ...       ...       ...  \n",
       "2058  3.284902  4.940737  2.681278 -2.963760 -1.306594  2.942546 -1.882748  \n",
       "2059  3.149987  4.940737  3.543689 -3.580953 -1.882748  3.343970 -2.632328  \n",
       "2060  2.985388  9.210440       NaN -3.343970 -1.404768  2.985388 -2.349789  \n",
       "2061  3.284902  5.093549  3.100385 -3.374769 -1.282902  2.942546       NaN  \n",
       "2062  2.698069  5.093549  3.374769 -3.201956 -2.100192  3.100385 -2.600812  \n",
       "\n",
       "[10296 rows x 20000 columns]"
      ]
     },
     "execution_count": 17,
     "metadata": {},
     "output_type": "execute_result"
    }
   ],
   "source": [
    "all_data = pd.concat([traindata.iloc[:, 1:-4], testdata.iloc[:, 1:-1]])\n",
    "all_data"
   ]
  },
  {
   "cell_type": "code",
   "execution_count": 18,
   "id": "bd424674-6a53-4c7f-ba51-ecaa2f52f4fa",
   "metadata": {},
   "outputs": [
    {
     "data": {
      "text/plain": [
       "17141    98.552836\n",
       "11379    98.348873\n",
       "12919    97.736985\n",
       "1389     97.533023\n",
       "5144     97.338772\n",
       "14628    97.309635\n",
       "16914    97.231935\n",
       "11910    97.163947\n",
       "8393     96.901709\n",
       "14301    96.746309\n",
       "1926     96.717172\n",
       "10168    96.678322\n",
       "3279     96.542347\n",
       "5911     95.930458\n",
       "9361     95.823621\n",
       "17088    95.736208\n",
       "12485    95.707071\n",
       "7365     95.707071\n",
       "5878     95.707071\n",
       "14265    95.697358\n",
       "11631    95.677933\n",
       "15081    95.648796\n",
       "2        95.619658\n",
       "3546     95.590521\n",
       "8003     95.561383\n",
       "17601    95.357420\n",
       "4551     95.347708\n",
       "1742     95.250583\n",
       "7151     95.114608\n",
       "10575    95.066045\n",
       "dtype: float64"
      ]
     },
     "execution_count": 18,
     "metadata": {},
     "output_type": "execute_result"
    }
   ],
   "source": [
    "missing_counts = all_data.iloc[:, 1:-4].isnull().sum()\n",
    "missing_ratios = (all_data.iloc[:, 1:-4].isnull().sum() / len(all_data)) * 100\n",
    "\n",
    "top_missing = missing_ratios.sort_values(ascending=False)\n",
    "top_missing[:30]"
   ]
  },
  {
   "cell_type": "code",
   "execution_count": 19,
   "id": "a9987b31-1c9f-40fb-838c-aa7c8778e461",
   "metadata": {},
   "outputs": [
    {
     "data": {
      "image/png": "[encoded data removed]",
      "text/plain": [
       "<Figure size 640x480 with 1 Axes>"
      ]
     },
     "metadata": {},
     "output_type": "display_data"
    }
   ],
   "source": [
    "num_bins = 20\n",
    "\n",
    "hist, bin_edges = np.histogram(top_missing, bins=num_bins)\n",
    "\n",
    "bin_proportions = hist / len(top_missing)\n",
    "\n",
    "plt.bar(bin_edges[:-1], bin_proportions, width=bin_edges[1] - bin_edges[0], align='edge')\n",
    "plt.xlabel('Bins')\n",
    "plt.ylabel('Proportion')\n",
    "plt.title('Proportion of Samples in Each Bin')\n",
    "plt.show()"
   ]
  },
  {
   "cell_type": "code",
   "execution_count": 20,
   "id": "c45f916e-5d5b-47a7-8bce-6db98c6e442c",
   "metadata": {},
   "outputs": [
    {
     "data": {
      "text/plain": [
       "array([0.82890723, 0.04691173, 0.02250563, 0.01660415, 0.01010253,\n",
       "       0.00900225, 0.0076019 , 0.00740185, 0.00550138, 0.00495124,\n",
       "       0.00655164, 0.00690173, 0.00395099, 0.00375094, 0.00325081,\n",
       "       0.00420105, 0.00330083, 0.00325081, 0.00305076, 0.00230058])"
      ]
     },
     "execution_count": 20,
     "metadata": {},
     "output_type": "execute_result"
    }
   ],
   "source": [
    "bin_proportions"
   ]
  },
  {
   "cell_type": "code",
   "execution_count": 21,
   "id": "3e132e05-6af6-4c17-bf96-ac585917dd6c",
   "metadata": {},
   "outputs": [
    {
     "data": {
      "text/plain": [
       "array([ 0.        ,  4.9276418 ,  9.85528361, 14.78292541, 19.71056721,\n",
       "       24.63820901, 29.56585082, 34.49349262, 39.42113442, 44.34877622,\n",
       "       49.27641803, 54.20405983, 59.13170163, 64.05934343, 68.98698524,\n",
       "       73.91462704, 78.84226884, 83.76991064, 88.69755245, 93.62519425,\n",
       "       98.55283605])"
      ]
     },
     "execution_count": 21,
     "metadata": {},
     "output_type": "execute_result"
    }
   ],
   "source": [
    " bin_edges"
   ]
  },
  {
   "cell_type": "code",
   "execution_count": 22,
   "id": "50e46ab3-d1bb-4e55-9a78-8a7e199a877a",
   "metadata": {},
   "outputs": [
    {
     "data": {
      "text/plain": [
       "19907"
      ]
     },
     "execution_count": 22,
     "metadata": {},
     "output_type": "execute_result"
    }
   ],
   "source": [
    "sum(top_missing < 90)"
   ]
  },
  {
   "cell_type": "markdown",
   "id": "ba9d7162-c330-4b7d-8d18-ae36f05a962a",
   "metadata": {},
   "source": [
    "1. 删掉部分特征，这里选择80%以上的\n",
    "2. 保存20%以内的特征然后进行PCA降维\n",
    "\n",
    "我选择第二种来打开baseline（PS: PCA之后效果不是很好）"
   ]
  },
  {
   "cell_type": "markdown",
   "id": "0d607ed6-9c7c-478c-8041-97180201a467",
   "metadata": {},
   "source": [
    "## Reduce Dimensonality"
   ]
  },
  {
   "cell_type": "code",
   "execution_count": 23,
   "id": "14e6a85f-7671-41ed-ac2d-462b14e86720",
   "metadata": {},
   "outputs": [],
   "source": [
    "# imputer = SimpleImputer(strategy='mean')\n",
    "# traindata_control_ = traindata_control.iloc[:, top_missing[top_missing < 20].index.tolist()]\n",
    "# filled_traindata_control_ = imputer.fit_transform(traindata_control_)\n",
    "\n",
    "# imputer_ = SimpleImputer(strategy='mean')\n",
    "# traindata_disease_ = traindata_disease.iloc[:, top_missing[top_missing < 20].index.tolist()]\n",
    "# filled_traindata_disease_ = imputer_.fit_transform(traindata_disease_)"
   ]
  },
  {
   "cell_type": "code",
   "execution_count": 24,
   "id": "49be977c-82ce-42d1-9898-b9b4df06208d",
   "metadata": {},
   "outputs": [],
   "source": [
    "# imputer_test = SimpleImputer(strategy='mean')\n",
    "# testdata_ = testdata.iloc[:, top_missing[top_missing < 20].index.tolist()]\n",
    "# filled_testdata_ = imputer_test.fit_transform(testdata_)"
   ]
  },
  {
   "cell_type": "code",
   "execution_count": 25,
   "id": "1c0fecd9-77d5-4359-a8ef-e7d0a4f3b73f",
   "metadata": {},
   "outputs": [],
   "source": [
    "# alldata = pd.concat([pd.DataFrame(filled_traindata_control_), pd.DataFrame(filled_traindata_disease_), pd.DataFrame(filled_testdata_)])\n",
    "# alldata"
   ]
  },
  {
   "cell_type": "code",
   "execution_count": 26,
   "id": "0f48f7f5-df54-4b4c-b4f7-ebadebc8db73",
   "metadata": {},
   "outputs": [],
   "source": [
    "# alldata.info()"
   ]
  },
  {
   "cell_type": "code",
   "execution_count": 27,
   "id": "40495855-e538-49e9-a8d3-11b1059a7cf4",
   "metadata": {},
   "outputs": [],
   "source": [
    "# variances = []\n",
    "# for n_components in range(2, 200):\n",
    "#     pca = PCA(n_components=n_components)\n",
    "#     pca.fit(alldata)\n",
    "#     variances.append(np.sum(pca.explained_variance_ratio_))"
   ]
  },
  {
   "cell_type": "code",
   "execution_count": 28,
   "id": "59d5f10e-c373-4348-8fa1-a28006ecb097",
   "metadata": {},
   "outputs": [],
   "source": [
    "# plt.figure(figsize=(6,4))\n",
    "# plt.plot([i for i in range(2, 200)], variances, color=\"red\", linewidth=1 )\n",
    "# plt.xlabel(\"n_components\")\n",
    "# plt.ylabel(\"variance\")\n",
    "# plt.title(\"n_components VS variance\")"
   ]
  },
  {
   "cell_type": "code",
   "execution_count": 29,
   "id": "68c85779-73dc-4a40-98a8-37a29b101702",
   "metadata": {},
   "outputs": [],
   "source": [
    "# plt.figure(figsize=(6,4))\n",
    "# plt.plot([i for i in range(2, 40)], variances[:38], color=\"red\", linewidth=1 )\n",
    "# plt.xlabel(\"n_components\")\n",
    "# plt.ylabel(\"variance\")\n",
    "# plt.title(\"n_components VS variance\")"
   ]
  },
  {
   "cell_type": "markdown",
   "id": "fbf07463-58c5-456f-9819-0b8332007a42",
   "metadata": {},
   "source": [
    "选择第15作为PCA的n_components"
   ]
  },
  {
   "cell_type": "code",
   "execution_count": 30,
   "id": "b1dabc79-fbd4-4073-8a9a-58ade05cbbac",
   "metadata": {},
   "outputs": [],
   "source": [
    "# pca = PCA(n_components=15)\n",
    "# alldata_pca = pca.fit_transform(alldata)\n",
    "# alldata_pca"
   ]
  },
  {
   "cell_type": "code",
   "execution_count": 31,
   "id": "299f3ac2-2842-4d6f-9b05-f43a7a97ff22",
   "metadata": {},
   "outputs": [],
   "source": [
    "# train_pca = pd.DataFrame(alldata_pca[:len(traindata), :])\n",
    "# test_pca = pd.DataFrame(alldata_pca[len(traindata):, :])"
   ]
  },
  {
   "cell_type": "markdown",
   "id": "0c43d2fe-bbed-4844-acc8-6d8c5c07d693",
   "metadata": {},
   "source": [
    "## Preprocessing"
   ]
  },
  {
   "cell_type": "code",
   "execution_count": 34,
   "id": "a2f5a767-c29b-47cf-8770-fca2914b4537",
   "metadata": {},
   "outputs": [],
   "source": [
    "disease_mapping = {\n",
    "    'control': 0,\n",
    "    \"Alzheimer's disease\": 1,\n",
    "    \"Graves' disease\": 2,\n",
    "    \"Huntington's disease\": 3,\n",
    "    \"Parkinson's disease\": 4,\n",
    "    'rheumatoid arthritis': 5,\n",
    "    'schizophrenia': 6,\n",
    "    \"Sjogren's syndrome\": 7,\n",
    "    'stroke': 8,\n",
    "    'type 2 diabetes': 9\n",
    "}\n",
    "sample_type_mapping = {'control': 0, 'disease tissue': 1}\n",
    "gender_mapping = {'F': 0, 'M': 1}\n",
    "\n",
    "traindata['disease'] = traindata['disease'].map(disease_mapping)\n",
    "traindata['sample_type'] = traindata['sample_type'].map(sample_type_mapping)\n",
    "traindata['gender'] = traindata['gender'].map(gender_mapping)\n",
    "testdata['gender'] = testdata['gender'].map(gender_mapping)"
   ]
  },
  {
   "cell_type": "code",
   "execution_count": 38,
   "id": "c0c3f659-dbba-4cea-bf28-9ffdf1f5f08c",
   "metadata": {},
   "outputs": [],
   "source": [
    "traindata_ = traindata.loc[:, top_missing[top_missing < 90].index.tolist() + ['gender']]\n",
    "testdata_ = testdata.loc[:, top_missing[top_missing < 90].index.tolist() + ['gender']]"
   ]
  },
  {
   "cell_type": "code",
   "execution_count": null,
   "id": "b18071da-f8e7-499c-ba20-e5f246793298",
   "metadata": {},
   "outputs": [],
   "source": [
    "traindata_control = traindata_[traindata_['sample_type'] == 0]\n",
    "traindata_disease = traindata_[traindata_['sample_type'] == 1]\n",
    "\n",
    "traindata_control = traindata_control.reset_index(drop = True)\n",
    "traindata_disease = traindata_disease.reset_index(drop = True)"
   ]
  },
  {
   "cell_type": "markdown",
   "id": "39705930-b342-45b9-8762-abeaa62f2bd9",
   "metadata": {},
   "source": [
    "# Modeling"
   ]
  },
  {
   "cell_type": "code",
   "execution_count": 39,
   "id": "666ffc94-371a-4be4-9afb-eabc7d34f926",
   "metadata": {},
   "outputs": [],
   "source": [
    "n_folds = 5\n",
    "seed = 617\n",
    "\n",
    "def CV(model, x, y):\n",
    "    kf = KFold(n_splits=n_folds, shuffle=True, random_state=seed)\n",
    "    kfold = kf.split(x, y)\n",
    "    losses = []\n",
    "    for (train_id, val_id) in kfold:\n",
    "        x_train = x.iloc[train_id]\n",
    "        y_train = y[train_id]\n",
    "        x_val = x.iloc[val_id]\n",
    "        y_val = y[val_id]\n",
    "        model.fit(x_train, y_train)\n",
    "        pred = model.predict(x_val)\n",
    "        loss = mean_absolute_error(y_val, pred)\n",
    "        losses.append(loss)\n",
    "    return np.mean(losses)"
   ]
  },
  {
   "cell_type": "markdown",
   "id": "eef95569-7a98-4bc3-aa32-12de49e8a71a",
   "metadata": {},
   "source": [
    "## Baseline"
   ]
  },
  {
   "cell_type": "markdown",
   "id": "0ef3c1dd-658f-4111-87e8-44298a94c635",
   "metadata": {},
   "source": [
    "## LightGBM"
   ]
  },
  {
   "cell_type": "code",
   "execution_count": 35,
   "id": "6c4ed2d3-5430-414b-b084-58b4c173ec2b",
   "metadata": {},
   "outputs": [],
   "source": [
    "def get_metric(model, x, y):\n",
    "    model.fit(x, y)\n",
    "    y_predict = model.predict(x)\n",
    "    return mean_absolute_error(y, y_predict)"
   ]
  },
  {
   "cell_type": "code",
   "execution_count": 36,
   "id": "1073541b-6f9b-4e9c-bcab-e9fdd53157ef",
   "metadata": {},
   "outputs": [],
   "source": [
    "lgb_params = {\n",
    "    'boosting_type': 'gbdt',\n",
    "    'objective': 'regression',\n",
    "    'metric': 'mae',\n",
    "    'min_child_weight': 6,\n",
    "    'num_leaves': 2 ** 6,\n",
    "    'lambda_l2': 10,\n",
    "    'feature_fraction': 0.8,\n",
    "    'bagging_fraction': 0.8,\n",
    "    'bagging_freq': 4,\n",
    "    'learning_rate': 0.1,\n",
    "    'seed': 2023,\n",
    "    'nthread' : 16,\n",
    "    'verbose' : -1,\n",
    "}"
   ]
  },
  {
   "cell_type": "code",
   "execution_count": 40,
   "id": "0113381b-379f-44ee-9adb-c64eae12374c",
   "metadata": {},
   "outputs": [
    {
     "data": {
      "text/plain": [
       "1.008425879879112"
      ]
     },
     "execution_count": 40,
     "metadata": {},
     "output_type": "execute_result"
    }
   ],
   "source": [
    "lgbC = lgb.LGBMRegressor(**lgb_params, random_state = seed)\n",
    "get_metric(lgbC, traindata_, traindata.iloc[:, -4])"
   ]
  },
  {
   "cell_type": "code",
   "execution_count": 129,
   "id": "f0cfb4c3-df11-401a-94d8-bceeda0e6454",
   "metadata": {},
   "outputs": [],
   "source": [
    "# testdata['age'] = lgbC.predict(test_pca)\n",
    "# testdata['age'] = testdata['age'].astype(float) # 将age列的数据类型转换为浮点数。\n",
    "# testdata['age'] = testdata['age'].apply(lambda x: x if x>0 else 0.0) # 使用lambda函数对age列中的每个元素进行判断，如果大于0，则保持不变，否则将其替换为0.0。\n",
    "# testdata['age'] = testdata['age'].apply(lambda x: '%.2f' % x) # 使用lambda函数将age列中的每个元素格式化为保留两位小数的字符串。\n",
    "# testdata['age'] = testdata['age'].astype(str) # 将age列的数据类型转换为字符串。\n",
    "# testdata[['sample_id','age']].to_csv('submit_lgb.txt',index=False)"
   ]
  }
 ],
 "metadata": {
  "kernelspec": {
   "display_name": "Python 3 (ipykernel)",
   "language": "python",
   "name": "python3"
  },
  "language_info": {
   "codemirror_mode": {
    "name": "ipython",
    "version": 3
   },
   "file_extension": ".py",
   "mimetype": "text/x-python",
   "name": "python",
   "nbconvert_exporter": "python",
   "pygments_lexer": "ipython3",
   "version": "3.8.10"
  }
 },
 "nbformat": 4,
 "nbformat_minor": 5
}
